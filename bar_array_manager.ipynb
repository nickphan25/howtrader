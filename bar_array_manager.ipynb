{
 "cells": [
  {
   "metadata": {},
   "cell_type": "markdown",
   "source": [
    "# BarGenerator and ArrayManager Classes\n",
    "This notebook contains optimized classes for managing bar data and calculating technical indicators in trading applications."
   ],
   "id": "4978de821c31deb6"
  },
  {
   "metadata": {},
   "cell_type": "code",
   "outputs": [],
   "execution_count": null,
   "source": [
    "import numpy as np\n",
    "from datetime import datetime, timedelta\n",
    "from typing import Callable, Optional\n",
    "from enum import Enum"
   ],
   "id": "fe3b062808c16d29"
  },
  {
   "metadata": {},
   "cell_type": "code",
   "outputs": [],
   "execution_count": null,
   "source": "",
   "id": "3d182d468b3322d7"
  },
  {
   "metadata": {},
   "cell_type": "code",
   "outputs": [],
   "execution_count": null,
   "source": "",
   "id": "e17cbc0d205a883c"
  },
  {
   "metadata": {},
   "cell_type": "code",
   "outputs": [],
   "execution_count": null,
   "source": "",
   "id": "830c4fe5377bf8b7"
  },
  {
   "metadata": {},
   "cell_type": "code",
   "outputs": [],
   "execution_count": null,
   "source": "!pip install talib",
   "id": "debc8d71ee072086"
  },
  {
   "metadata": {},
   "cell_type": "code",
   "outputs": [],
   "execution_count": null,
   "source": "import talib",
   "id": "c94a70c9e689aaa9"
  },
  {
   "metadata": {},
   "cell_type": "code",
   "outputs": [],
   "execution_count": null,
   "source": [
    "# Create sample data\n",
    "from datetime import datetime, timedelta\n",
    "\n",
    "# Sample bar data\n",
    "sample_bars = []\n",
    "base_time = datetime(2023, 1, 1, 9, 30)\n",
    "base_price = 100.0\n",
    "\n",
    "for i in range(50):\n",
    "    bar = BarData(\n",
    "        symbol=\"AAPL\",\n",
    "        exchange=\"NASDAQ\",\n",
    "        datetime=base_time + timedelta(minutes=i),\n",
    "        open_price=base_price + np.random.uniform(-1, 1),\n",
    "        high_price=base_price + np.random.uniform(0, 2),\n",
    "        low_price=base_price - np.random.uniform(0, 2),\n",
    "        close_price=base_price + np.random.uniform(-1, 1),\n",
    "        volume=1000 + np.random.randint(0, 500)\n",
    "    )\n",
    "    sample_bars.append(bar)\n",
    "    base_price = bar.close_price\n",
    "\n",
    "# Initialize ArrayManager\n",
    "am = ArrayManager(size=30)\n",
    "\n",
    "# Update with sample data\n",
    "for bar in sample_bars:\n",
    "    am.update_bar(bar)"
   ],
   "id": "66aebe37a5554fde"
  }
 ],
 "metadata": {
  "kernelspec": {
   "display_name": "Python 3",
   "language": "python",
   "name": "python3"
  },
  "language_info": {
   "codemirror_mode": {
    "name": "ipython",
    "version": 2
   },
   "file_extension": ".py",
   "mimetype": "text/x-python",
   "name": "python",
   "nbconvert_exporter": "python",
   "pygments_lexer": "ipython2",
   "version": "2.7.6"
  }
 },
 "nbformat": 4,
 "nbformat_minor": 5
}
